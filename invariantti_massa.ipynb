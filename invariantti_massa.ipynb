{
 "cells": [
  {
   "cell_type": "markdown",
   "id": "polish-terry",
   "metadata": {},
   "source": [
    "# Invariantin massan laskeminen"
   ]
  },
  {
   "cell_type": "markdown",
   "id": "reduced-holocaust",
   "metadata": {},
   "source": [
    "Tässä tehtävässä harjoitellaan laskemaan CMS-ilmaisimessa havaittujen hiukkasten __invariantti massa__. Invariantti massa on hiukkasfyysikoille tärkeä työkalu hiukkasten tunnistamisessa."
   ]
  },
  {
   "cell_type": "markdown",
   "id": "written-barbados",
   "metadata": {},
   "source": [
    "## Mikä on invariantti massa?\n",
    "\n",
    "Kun hiukkaskiihdyttimessä törmäytetään hiukkasia, vapautuu valtava määrä energiaa, josta muodostuu uusia hiukkasia.\n",
    "Jotkin törmäyksessä syntyneet hiukkaset, kuten esimerkiksi Higgsin hiukkane, ovat hyvin lyhytikäisiä ja hajoavat muiksi hiukkasiksi kauan ennenkuin ne päätyvät hiukkasilmaisimen detektoreihin. Hajoamistuotteina syntyneet hiukkasia voidaan kuitenkin havaita, ja näiden ominaisuuksia mittaamalla voimme päätellä, mistä hiukkasesta ne olivat alunperin peräisin (ja löytää todisteet esimerkiksi Higgsin olemassaololle). CMS:n kaltainen laite voi mitata hiukkasten liikemäärää ja energiaa, joiden avulla voidaan laskea _invariantti massa_. Se on matemaattinen arvo joka on \"invariantti\" mittausympäristölle, eli se voidaan laskea missä ja mille tahansa. Jos sen kuitenkin laskee tietystä hajoamisesta syntyneille \"tytärhiukkasille\" saadaan arvo joka on lähellä emohiukkasen massaa. Esimerkiksi Higgsin hiukkanen voi hajota neljäksi myoniksi, joiden liikemäärän ja energian voimme mitata hiukkasilmaisimella. Näiden neljän myonin liikemäärästä ja energiasta voimme laskea invariantin massan, joka vastaisi Higgsin hiukkasen massaa, sillä myonit ovat peräisin Higgsistä.\n",
    "\n",
    "Invariantti massa siis säilyy hiukkasen hajotessa uusiksi hiukkasiksi. Tämän ominaisuuden ansiosta se on voittamaton työkalu kokeellisen hiukkasfysiikan tutkijoille. Hiukkasilmaisin, kuten CMS, havaitsee lähinnä stabiileja hiukkasia. Määrittääkseen sen, minkä hiukkasen hajoamisesta nuo stabiilit hiukkaset ovat peräisin, tutkijoiden tulee tarkastella suuria datamääriä. Voimme laskea invariantin massan usealle eri hajoamistapahtumalle ja piirtää kaikista laskemistamme invarianteista massoista histogrammi.\n",
    "[Lisätietoa englanniksi](https://profmattstrassler.com/articles-and-posts/particle-physics-basics/mass-energy-matter-etc/mass-and-energy/)\n",
    "\n",
    "Alla olevassa kuvassa on piirretty invariantin massan histogrammi sellaisista törmäyksistä, joissa hiukkasilmaisin on havainnut kaksi myonia. Piikit histogrammissa vastaavat emohiukkasta, josta myonit ovat peräisin.\n",
    "\n",
    "<br>\n",
    " <img src=\"https://github.com/cms-opendata-education/cms-jupyter-materials-finnish/blob/master/Kuvat/inv_massa.PNG?raw=true\"  align=\"left\" width=\"600px\" title=\"[Kuva 1]  Törmäyksestä syntyneiden kahden myonin invariantin massan jakauma vuosilta 2017 ja 2018. Jakaumasta erottaa selvästi niiden hiukkasten piikit jotka voivat hajota kahdeksi myoniksi.\">\n",
    " <br>"
   ]
  },
  {
   "cell_type": "markdown",
   "id": "affecting-lobby",
   "metadata": {},
   "source": [
    "****\n",
    "## Datan hakeminen\n",
    "\n",
    "Tarkoituksenamme on piirtää invariantin massan histogrammi CMS:n avoimesta datasta vuodelta 2011. Dataan on valikoitu tapahtumia joissa syntyy kaksi myonia [1]. Data löytyy CERN:n Open Data Portaalista [2], ja sitä voi käyttää `pd.read_csv()`-funktiossa nimellä `http://opendata.cern.ch/record/5206/files/Ymumu.csv`. Histogrammin piirtämistä varten meidän tulee kuitenkin laskea jokaiselle tapahtumalle invariantti massa. Alustetaan lasku hakemalla käyttämämme data sekä tarvittavat Python-paketit."
   ]
  },
  {
   "cell_type": "code",
   "execution_count": 9,
   "id": "sound-hollow",
   "metadata": {},
   "outputs": [],
   "source": [
    "# Haetaan tarvittavat paketit\n",
    "\n",
    "import pandas as pd\n",
    "import matplotlib.pyplot as plt\n",
    "import numpy as np"
   ]
  },
  {
   "cell_type": "code",
   "execution_count": null,
   "id": "coordinated-theory",
   "metadata": {},
   "outputs": [],
   "source": [
    "# Lue data yllä olevasta tiedostopolusta ja tallenna se muuttujaan data\n",
    "\n"
   ]
  },
  {
   "cell_type": "code",
   "execution_count": null,
   "id": "established-exclusion",
   "metadata": {},
   "outputs": [],
   "source": [
    "# Katso datan muutama ensimmäinen rivi käyttäen head()-funktiota\n",
    "\n"
   ]
  },
  {
   "cell_type": "markdown",
   "id": "dressed-uganda",
   "metadata": {},
   "source": [
    "****\n",
    "## Invariantin massan laskeminen"
   ]
  },
  {
   "cell_type": "markdown",
   "id": "major-lewis",
   "metadata": {},
   "source": [
    "Invariantti massa voidaan laskea havaittujen hiukkasten energioiden ja liikemäärien avulla. Kahden hiukkasen tapauksessa invariantti massa on:\n",
    "\n",
    "$$ M = \\sqrt{(E_1 + E_2)^2 - \\|\\textbf{p}_1 + \\textbf{p}_2 \\| ^2},$$\n",
    "\n",
    "missä $\\|\\textbf{p}_1 + \\textbf{p}_2 \\| = (p_{x1}+p_{x2})^2+(p_{y1}+p_{y2})^2+(p_{z1}+p_{z2})^2$.\n",
    "\n",
    "Laskussa voidaan käyttää apuna *numpy*-pakettia, jonka nimesimme yllä *np*:ksi. Numpyn avulla voimme mm. suorittaa matemaattisia komentoja, joista neliöjuurta (*sqrt*) tarvitsemme invariantin massan laskemisessa.\n",
    "\n",
    "Esimerkki neliöjuuren laskemisesta:"
   ]
  },
  {
   "cell_type": "code",
   "execution_count": 8,
   "id": "governing-farmer",
   "metadata": {},
   "outputs": [
    {
     "data": {
      "text/plain": [
       "2.0"
      ]
     },
     "execution_count": 8,
     "metadata": {},
     "output_type": "execute_result"
    }
   ],
   "source": [
    "np.sqrt(4)"
   ]
  },
  {
   "cell_type": "markdown",
   "id": "general-kuwait",
   "metadata": {},
   "source": [
    "Nyt voimme laskea invariatin massan arvot eri tapahtumille. Huomaa, että voimme laskea kaikkien rivien invariantit massat kerrallaan käyttämällä laskussa suureiden paikalla koko saraketta, esim. $E_1$ paikalla `data['E1']`.\n",
    "\n",
    "Laske kaikille tapahtumille invariantti massa ja tallenna ne muuttujaan 'invariantti_massa'"
   ]
  },
  {
   "cell_type": "code",
   "execution_count": null,
   "id": "operating-automation",
   "metadata": {},
   "outputs": [],
   "source": [
    "# Laske invariantti massa ja tallenna muuttujaan invariantti_massa\n",
    "\n"
   ]
  },
  {
   "cell_type": "code",
   "execution_count": null,
   "id": "running-moldova",
   "metadata": {},
   "outputs": [],
   "source": [
    "# Tulosta näytölle muuttujan invariantti_massa viisi ensimmäistä riviä (vinkki: käytä head()-funktiota)\n",
    "\n"
   ]
  },
  {
   "cell_type": "markdown",
   "id": "molecular-public",
   "metadata": {},
   "source": [
    "## Datan visualisointi"
   ]
  },
  {
   "cell_type": "markdown",
   "id": "ecological-farming",
   "metadata": {},
   "source": [
    "Nyt kun invariantit massat on laskettu, data pitää vielä visualisoida. Tee histogrammi invarianteista massoista, esim. 100 pylväällä. Mikä hiukkanen datassa on havaittavissa?"
   ]
  },
  {
   "cell_type": "code",
   "execution_count": null,
   "id": "metropolitan-updating",
   "metadata": {},
   "outputs": [],
   "source": [
    "# Piirrä histogrammi invarianteista massoista\n",
    "\n"
   ]
  }
 ],
 "metadata": {
  "kernelspec": {
   "display_name": "Python 3",
   "language": "python",
   "name": "python3"
  },
  "language_info": {
   "codemirror_mode": {
    "name": "ipython",
    "version": 3
   },
   "file_extension": ".py",
   "mimetype": "text/x-python",
   "name": "python",
   "nbconvert_exporter": "python",
   "pygments_lexer": "ipython3",
   "version": "3.8.5"
  }
 },
 "nbformat": 4,
 "nbformat_minor": 5
}
