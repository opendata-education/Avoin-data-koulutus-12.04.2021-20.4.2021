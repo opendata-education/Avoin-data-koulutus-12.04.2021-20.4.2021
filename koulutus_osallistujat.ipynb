{
 "cells": [
  {
   "cell_type": "markdown",
   "id": "confused-origin",
   "metadata": {
    "slideshow": {
     "slide_type": "slide"
    }
   },
   "source": [
    "# Avoin data opetuksessa -koulutuksen osallistujat"
   ]
  },
  {
   "cell_type": "markdown",
   "id": "tribal-shock",
   "metadata": {},
   "source": [
    "Tässä notebookissa on statistiikkaa Avoin data opetuksessa -koulutuksen osallistujista."
   ]
  },
  {
   "cell_type": "code",
   "execution_count": null,
   "id": "respiratory-dividend",
   "metadata": {},
   "outputs": [],
   "source": [
    "import pandas as pd\n",
    "import matplotlib.pyplot as plt\n",
    "import folium\n",
    "from wordcloud import WordCloud\n",
    "from IPython.display import display\n",
    "\n",
    "data = pd.read_csv('registrations_clean.csv')\n",
    "coords = pd.read_csv('coordinates.csv')\n",
    "prog_lng = pd.read_csv('programming-languages.csv')"
   ]
  },
  {
   "cell_type": "code",
   "execution_count": null,
   "id": "emotional-chile",
   "metadata": {
    "scrolled": false,
    "slideshow": {
     "slide_type": "slide"
    }
   },
   "outputs": [],
   "source": [
    "map = folium.Map(location=(65.5, 23.8), zoom_start=5)\n",
    "for point in range(0, len(coords)):\n",
    "    folium.Marker((coords['lat'][point],coords['lon'][point])).add_to(map)\n",
    "display(map)"
   ]
  },
  {
   "cell_type": "code",
   "execution_count": null,
   "id": "executive-virginia",
   "metadata": {
    "scrolled": false,
    "slideshow": {
     "slide_type": "slide"
    }
   },
   "outputs": [],
   "source": [
    "hiukkasfysiikka = data['Olen käsitellyt hiukkasfysiikkaa opetuksessani'].value_counts()\n",
    "lyhyesti = hiukkasfysiikka[0] + 1 # Lisätään yksi vastaus, jossa oli valittu molemmat\n",
    "laajemmin = hiukkasfysiikka[1] + 1 # Lisätään yksi vastaus, jossa oli valittu molemmat\n",
    "\n",
    "plt.figure(figsize=(12,8))\n",
    "plt.title('Olen käsitellyt hiukkasfysiikkaa opetuksessani', fontsize=20)\n",
    "labels = ['Lyhyesti', 'Laajemmin', 'En koskaan']\n",
    "patches, texts, autotexts = plt.pie([lyhyesti, laajemmin, 0], labels=labels, autopct='%1.1f%%')\n",
    "[ text.set_fontsize(16) for text in texts ]\n",
    "[ text.set_fontsize(16) for text in autotexts ]\n",
    "plt.show()"
   ]
  },
  {
   "cell_type": "code",
   "execution_count": null,
   "id": "popular-underground",
   "metadata": {
    "slideshow": {
     "slide_type": "-"
    }
   },
   "outputs": [],
   "source": [
    "concat = pd.DataFrame(data['Olen kiinnostunut käyttämään opittuja taitoja'].str.split('; ').tolist(),columns=[\"0\",\"1\"])\n",
    "new_data = pd.concat([concat[\"0\"],concat[\"1\"]], ignore_index=True).dropna()"
   ]
  },
  {
   "cell_type": "code",
   "execution_count": null,
   "id": "vital-thickness",
   "metadata": {
    "slideshow": {
     "slide_type": "slide"
    }
   },
   "outputs": [],
   "source": [
    "kiinnostus = new_data.value_counts().sort_values()\n",
    "kiinnostus_kategoriat = kiinnostus.index\n",
    "kiinnostus_arvot = kiinnostus.values\n",
    "fig = plt.figure(figsize=(12,8))\n",
    "plt.barh(kiinnostus_kategoriat, kiinnostus_arvot, color=['green','red','blue'])\n",
    "for i, v in enumerate(kiinnostus_arvot):\n",
    "    plt.text(v, i, \" \"+str(v), color='black', va='center', fontweight='bold', fontsize=14)\n",
    "plt.title('Olen kiinnostunut käyttämään opittuja taitoja', fontsize=20)\n",
    "plt.yticks(kiinnostus_kategoriat, )\n",
    "ax = plt.gca()\n",
    "ax.get_xaxis().set_ticks([])\n",
    "for tick in ax.yaxis.get_major_ticks():\n",
    "    tick.label.set_fontsize(16)\n",
    "plt.box(False)\n",
    "plt.show()"
   ]
  },
  {
   "cell_type": "code",
   "execution_count": null,
   "id": "arabic-assignment",
   "metadata": {
    "slideshow": {
     "slide_type": "slide"
    }
   },
   "outputs": [],
   "source": [
    "ohjelmointi = data['Olen ohjelmoinut'].value_counts()\n",
    "ohjelmointi_kategoriat = ohjelmointi.index\n",
    "ohjelmointi_arvot = ohjelmointi.values\n",
    "\n",
    "plt.figure(figsize=(12,8))\n",
    "plt.title('Olen ohjelmoinut', fontsize=20)\n",
    "patches, texts, autotexts = plt.pie(ohjelmointi_arvot, labels=ohjelmointi_kategoriat, autopct='%1.1f%%')\n",
    "[ text.set_fontsize(16) for text in texts ]\n",
    "[ text.set_fontsize(16) for text in autotexts ]\n",
    "plt.show()"
   ]
  },
  {
   "cell_type": "code",
   "execution_count": null,
   "id": "excess-montgomery",
   "metadata": {
    "scrolled": false,
    "slideshow": {
     "slide_type": "slide"
    }
   },
   "outputs": [],
   "source": [
    "jupyter = data['Jupyter/python notebook? (ei ole tietokone vaan ohjelmointialusta)'].value_counts()\n",
    "jupyter_kategoriat = jupyter.index\n",
    "jupyter_arvot = jupyter.values\n",
    "\n",
    "plt.figure(figsize=(12,8))\n",
    "plt.title('Python/Jupyter notebook', fontsize=20)\n",
    "patches, texts, autotexts = plt.pie(jupyter_arvot, labels=jupyter_kategoriat, autopct='%1.1f%%')\n",
    "[ text.set_fontsize(16) for text in texts ]\n",
    "[ text.set_fontsize(16) for text in autotexts ]\n",
    "plt.show()"
   ]
  },
  {
   "cell_type": "code",
   "execution_count": null,
   "id": "concrete-customs",
   "metadata": {
    "slideshow": {
     "slide_type": "slide"
    }
   },
   "outputs": [],
   "source": [
    "github = data['Github repositories'].value_counts()\n",
    "github_kategoriat = github.index\n",
    "github_arvot = github.values\n",
    "\n",
    "plt.figure(figsize=(12,8))\n",
    "plt.title('Github repositories', fontsize=20)\n",
    "patches, texts, autotexts = plt.pie(github_arvot, labels=github_kategoriat, autopct='%1.1f%%')\n",
    "[ text.set_fontsize(16) for text in texts ]\n",
    "[ text.set_fontsize(16) for text in autotexts ]\n",
    "plt.show()"
   ]
  },
  {
   "cell_type": "code",
   "execution_count": null,
   "id": "vulnerable-butler",
   "metadata": {
    "slideshow": {
     "slide_type": "slide"
    }
   },
   "outputs": [],
   "source": [
    "data_string = ' '.join(prog_lng['language'].tolist())\n",
    "wordcloud = WordCloud(regexp=r\"[\\S]+\")\n",
    "wordcloud.generate(data_string)\n",
    "plt.figure (figsize = (10,10))\n",
    "plt.imshow(wordcloud)\n",
    "plt.axis('off')\n",
    "plt.show()"
   ]
  }
 ],
 "metadata": {
  "kernelspec": {
   "display_name": "Python 3",
   "language": "python",
   "name": "python3"
  },
  "language_info": {
   "codemirror_mode": {
    "name": "ipython",
    "version": 3
   },
   "file_extension": ".py",
   "mimetype": "text/x-python",
   "name": "python",
   "nbconvert_exporter": "python",
   "pygments_lexer": "ipython3",
   "version": "3.8.5"
  }
 },
 "nbformat": 4,
 "nbformat_minor": 5
}
