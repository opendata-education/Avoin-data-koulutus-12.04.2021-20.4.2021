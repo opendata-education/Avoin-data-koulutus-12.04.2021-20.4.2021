{
 "cells": [
  {
   "cell_type": "markdown",
   "metadata": {},
   "source": [
    "# Covid dataa"
   ]
  },
  {
   "cell_type": "markdown",
   "metadata": {},
   "source": [
    "Tutkitaan tässä harjoituksessa [Our world in data](https://ourworldindata.org/coronavirus)-sivuston dataa päivittäisistä Covid-tapauksista eri maissa."
   ]
  },
  {
   "cell_type": "code",
   "execution_count": null,
   "metadata": {},
   "outputs": [],
   "source": [
    "# Tarvittavat paketit\n",
    "\n",
    "import pandas as pd\n",
    "import matplotlib.pyplot as plt"
   ]
  },
  {
   "cell_type": "code",
   "execution_count": null,
   "metadata": {},
   "outputs": [],
   "source": [
    "# Luetaan datatiedosto ja katsotaan sisältö\n",
    "\n",
    "datasetti = pd.read_csv(\"https://raw.githubusercontent.com/owid/covid-19-data/master/public/data/jhu/biweekly_cases_per_million.csv\")\n",
    "datasetti.head()"
   ]
  },
  {
   "cell_type": "code",
   "execution_count": null,
   "metadata": {},
   "outputs": [],
   "source": [
    "# Piirretään Suomen koronatapaukset\n",
    "\n",
    "# Plot-funktiolle voidaan antaa \"label\"-parametri, jos kuvaajan selite halutaan näkyviin.\n",
    "plt.plot(datasetti[\"date\"], datasetti[\"Finland\"], label=\"Finland\")\n",
    "\n",
    "# Näytetään selite\n",
    "plt.legend() \n",
    "\n",
    "# Näytetään kuvaaja\n",
    "plt.show()"
   ]
  },
  {
   "cell_type": "markdown",
   "metadata": {},
   "source": [
    "Huomataan, että x-akseli tulee melko sotkuiseksi jos kaikki päivämäärät piirretään, kuten edellä on tehty. Onglema voidaan korjata käyttämällä Matplotlibin automaattista päivämääränsijoittelutyökalua (AutoDateLocator). Katso alta esimerkki, miten sitä voidaan käyttää."
   ]
  },
  {
   "cell_type": "code",
   "execution_count": null,
   "metadata": {},
   "outputs": [],
   "source": [
    "# Tuodaan AutoDateLocator-työkalu matplotlibin dates-paketista\n",
    "from matplotlib.dates import AutoDateLocator\n",
    "\n",
    "# Luodaan uusi kuvaaja\n",
    "plt.figure()\n",
    "\n",
    "# Asetetaan x-akselille automaattinen päivämääräasettelu\n",
    "xtick_locator = AutoDateLocator()\n",
    "ax = plt.gca()\n",
    "ax.xaxis.set_major_locator(xtick_locator)\n",
    "\n",
    "# Piirretään kuvaaja\n",
    "plt.plot(datasetti[\"date\"], datasetti[\"Finland\"])\n",
    "\n",
    "# Käännetään x-akselin otsikoita\n",
    "plt.xticks(rotation=60)\n",
    "\n",
    "plt.show()"
   ]
  },
  {
   "cell_type": "markdown",
   "metadata": {},
   "source": [
    "## Tehtävä:\n",
    "\n",
    "Vertaile useamman eri maan koronatapauksia samassa kuvaajassa ja tee siisti kuvaaja otsikoineen päivineen. Kokeile, saatko päivämäärät siististi x-akselille!"
   ]
  }
 ],
 "metadata": {
  "kernelspec": {
   "display_name": "Python 3",
   "language": "python",
   "name": "python3"
  },
  "language_info": {
   "codemirror_mode": {
    "name": "ipython",
    "version": 3
   },
   "file_extension": ".py",
   "mimetype": "text/x-python",
   "name": "python",
   "nbconvert_exporter": "python",
   "pygments_lexer": "ipython3",
   "version": "3.8.5"
  }
 },
 "nbformat": 4,
 "nbformat_minor": 4
}
